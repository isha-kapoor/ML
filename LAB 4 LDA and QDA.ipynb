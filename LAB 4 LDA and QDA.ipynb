{
 "cells": [
  {
   "cell_type": "code",
   "execution_count": 80,
   "metadata": {},
   "outputs": [],
   "source": [
    "#lda binary classifier"
   ]
  },
  {
   "cell_type": "code",
   "execution_count": 42,
   "metadata": {},
   "outputs": [],
   "source": [
    "import numpy as np\n",
    "from matplotlib import pyplot as plt\n",
    "import pandas as pd\n",
    "from sklearn.datasets import load_digits\n",
    "from sklearn.preprocessing import StandardScaler\n",
    "from sklearn.model_selection import train_test_split\n",
    "from scipy.stats import multivariate_normal"
   ]
  },
  {
   "cell_type": "code",
   "execution_count": 43,
   "metadata": {},
   "outputs": [],
   "source": [
    "from sklearn.datasets import load_digits\n",
    "digits = load_digits()\n"
   ]
  },
  {
   "cell_type": "code",
   "execution_count": 47,
   "metadata": {},
   "outputs": [
    {
     "data": {
      "text/plain": [
       "array([0, 1, 2, 3, 4, 5, 6, 7, 8, 9])"
      ]
     },
     "execution_count": 47,
     "metadata": {},
     "output_type": "execute_result"
    }
   ],
   "source": [
    "eight=digits.data[digits.target==8]\n",
    "eight.shape\n",
    "y=digits.target\n",
    "y=np.unique(y)\n",
    "y"
   ]
  },
  {
   "cell_type": "code",
   "execution_count": 8,
   "metadata": {},
   "outputs": [
    {
     "data": {
      "text/plain": [
       "(182, 64)"
      ]
     },
     "execution_count": 8,
     "metadata": {},
     "output_type": "execute_result"
    }
   ],
   "source": [
    "five=digits.data[digits.target==5]\n",
    "five.shape"
   ]
  },
  {
   "cell_type": "code",
   "execution_count": 9,
   "metadata": {},
   "outputs": [],
   "source": [
    "from sklearn.model_selection import train_test_split\n",
    "eight_t, eight_ = train_test_split(eight, test_size=0.1)\n",
    "five_t, five_ = train_test_split(five, test_size=0.1)"
   ]
  },
  {
   "cell_type": "code",
   "execution_count": 10,
   "metadata": {},
   "outputs": [
    {
     "name": "stdout",
     "output_type": "stream",
     "text": [
      "(1, 64)\n"
     ]
    }
   ],
   "source": [
    "eight_mean=[]\n",
    "for j in range (64):\n",
    "        eight_mean.append(np.mean(eight_t[:,j]))\n",
    "        \n",
    "eight_mean=np.matrix(eight_mean)\n",
    "five_mean=[]\n",
    "for j in range (64):\n",
    "        five_mean.append(np.mean(five_t[:,j]))\n",
    "        \n",
    "five_mean=np.matrix(five_mean)\n",
    "print(five_mean.shape)\n",
    "eight_t=np.matrix(eight_t)\n",
    "five_t=np.matrix(five_t)\n",
    "eight_=np.matrix(eight_)\n",
    "five_=np.matrix(five_)"
   ]
  },
  {
   "cell_type": "code",
   "execution_count": 11,
   "metadata": {},
   "outputs": [],
   "source": [
    "cov_eight=np.cov(eight_t.T)\n",
    "cov_five=np.cov(five_t.T)\n",
    "sigma=(cov_eight+cov_five)/2"
   ]
  },
  {
   "cell_type": "code",
   "execution_count": 12,
   "metadata": {},
   "outputs": [],
   "source": [
    "pi_8=((eight_t.shape[0])/(eight_t.shape[0]+five_t.shape[0]))\n",
    "pi_5=1-pi_8\n"
   ]
  },
  {
   "cell_type": "code",
   "execution_count": 13,
   "metadata": {},
   "outputs": [],
   "source": [
    "test =np.vstack((eight_,five_))\n",
    "test.shape\n",
    "y=[]\n",
    "for i in range(18):\n",
    "    y.append(8)\n",
    "for i in range (19):\n",
    "    y.append(5)"
   ]
  },
  {
   "cell_type": "code",
   "execution_count": 14,
   "metadata": {},
   "outputs": [
    {
     "name": "stdout",
     "output_type": "stream",
     "text": [
      "100\n",
      "estimator [8, 8, 8, 8, 8, 8, 8, 8, 8, 8, 8, 8, 8, 8, 8, 8, 8, 8, 5, 5, 5, 5, 5, 5, 5, 5, 5, 5, 5, 5, 5, 5, 5, 5, 5, 5, 5]\n",
      "actual    [8, 8, 8, 8, 8, 8, 8, 8, 8, 8, 8, 8, 8, 8, 8, 8, 8, 8, 5, 5, 5, 5, 5, 5, 5, 5, 5, 5, 5, 5, 5, 5, 5, 5, 5, 5, 5]\n"
     ]
    }
   ],
   "source": [
    "pred_eight=[]\n",
    "for i in range(test.shape[0]):\n",
    "    pred=test[i,:].dot((np.linalg.pinv(sigma).dot(eight_mean.T) -(np.linalg.pinv(sigma).dot(five_mean.T))))\n",
    "    pred1=0.5*(-(five_mean.dot(np.linalg.pinv(sigma).dot(five_mean.T)))+(eight_mean.dot(np.linalg.pinv(sigma).dot(eight_mean.T))))\n",
    "    pii=pred+pred1+np.log(pi_8/pi_5)\n",
    "    if(pii>0):\n",
    "        pred_eight.append(8)\n",
    "    else:\n",
    "        pred_eight.append(5)\n",
    "pred_eight\n",
    "t=np.sum(pred_eight==y)*100\n",
    "print(t)\n",
    "print(\"estimator\" ,pred_eight)\n",
    "print(\"actual   \" ,y)"
   ]
  },
  {
   "cell_type": "code",
   "execution_count": 15,
   "metadata": {},
   "outputs": [],
   "source": [
    "#QDA\n",
    "# @ symbol used fr matrix multiplication\n"
   ]
  },
  {
   "cell_type": "code",
   "execution_count": 16,
   "metadata": {},
   "outputs": [],
   "source": [
    "data = load_digits().data\n",
    "labels = load_digits().target\n",
    "data = StandardScaler().fit_transform(data)  #it first fits to the data and then Standardize features by removing the mean and scaling to unit variance\n",
    "X =data\n",
    "Y = labels\n",
    "X_train, X_test, Y_train, Y_test = train_test_split(X, Y, test_size=0.1) \n",
    "k = np.unique(labels).shape[0]   #10\n",
    "pxl = X.shape[1]  #64\n",
    "prior = np.zeros([k, 1]) #10*1\n",
    "sigma = np.zeros([k, pxl, pxl])  #10*64*64 \n",
    "#print(sigma[2:4:2])\n",
    "mean = np.zeros([k, pxl])    #10*64\n",
    "samples = X_train.shape[0]  #1617\n",
    "cov_inv = np.zeros([k, pxl, pxl])  #10*64*64\n",
    "\n",
    "for i in range(k):\n",
    "    prior[i] = len(np.where(Y_train == i)[0])/samples\n",
    "    sigma[i] = np.cov(X_train[np.where(Y_train == i)[0]].T)\n",
    "    cov_inv[i] = np.linalg.pinv(sigma[i])\n",
    "    mean[i] = np.mean(X_train[np.where(Y_train == i)[0]],axis=0)# axis 0 is use for row and if axis is 1 is for columns \n",
    "    #by default the value of axis is 0\n",
    "#print(mean)"
   ]
  },
  {
   "cell_type": "code",
   "execution_count": 17,
   "metadata": {},
   "outputs": [],
   "source": [
    "def pred(x):\n",
    "    estimator = np.zeros([k, 1])\n",
    "    for i in range(k):\n",
    "        estimator[i] = -0.5*(x-mean[i]).T@cov_inv[i]@(x-mean[i]) + np.log(prior[i])\n",
    "    return np.argmax(estimator)"
   ]
  },
  {
   "cell_type": "code",
   "execution_count": 18,
   "metadata": {},
   "outputs": [],
   "source": [
    "predicted = np.zeros(Y_test.shape)\n",
    "for i in range(Y_test.shape[0]):\n",
    "    predicted[i] = pred(X_test[i])"
   ]
  },
  {
   "cell_type": "code",
   "execution_count": 19,
   "metadata": {},
   "outputs": [
    {
     "name": "stdout",
     "output_type": "stream",
     "text": [
      "[9. 7. 5. 7. 1. 6. 6. 9. 5. 7. 6. 8. 6. 9. 2. 8. 1. 7. 7. 7. 1. 2. 6. 1.\n",
      " 9. 8. 4. 4. 6. 0. 5. 3. 2. 1. 0. 6. 5. 3. 1. 5. 7. 8. 7. 1. 7. 7. 0. 2.\n",
      " 8. 2. 4. 8. 9. 8. 3. 7. 3. 0. 9. 2. 6. 0. 0. 5. 4. 2. 4. 9. 1. 8. 3. 2.\n",
      " 6. 8. 6. 1. 8. 3. 1. 1. 1. 7. 5. 8. 2. 8. 6. 2. 1. 2. 7. 7. 1. 2. 8. 9.\n",
      " 1. 7. 9. 7. 6. 0. 8. 7. 3. 8. 4. 4. 2. 2. 3. 8. 1. 0. 4. 3. 2. 9. 2. 3.\n",
      " 0. 4. 5. 8. 2. 4. 3. 2. 8. 2. 2. 5. 6. 4. 5. 8. 6. 6. 4. 6. 2. 0. 5. 6.\n",
      " 6. 1. 5. 6. 1. 1. 4. 0. 3. 4. 5. 9. 8. 4. 5. 4. 0. 7. 9. 5. 8. 2. 8. 8.\n",
      " 8. 9. 7. 7. 5. 3. 5. 4. 4. 0. 4. 9.]\n",
      "[9 7 5 7 1 6 6 9 5 7 6 8 6 9 2 1 1 7 7 7 1 2 6 1 9 8 4 4 6 0 5 3 2 1 0 6 5\n",
      " 3 1 5 7 8 7 1 7 7 0 2 8 2 4 8 9 1 3 7 3 0 9 2 6 0 0 5 4 2 4 9 1 4 3 2 6 2\n",
      " 6 1 8 3 1 1 1 7 5 8 2 1 6 2 1 2 7 7 1 2 2 9 1 7 9 7 6 0 8 7 3 8 4 4 2 2 3\n",
      " 8 1 0 4 3 2 9 2 3 0 4 5 8 2 4 3 2 8 2 2 5 6 4 5 8 6 6 4 6 2 0 5 6 6 1 5 6\n",
      " 1 1 4 0 3 4 5 9 8 4 5 4 0 7 9 5 8 2 2 1 8 3 7 7 5 3 5 4 4 0 4 9]\n"
     ]
    }
   ],
   "source": [
    "print(predicted)\n",
    "print(Y_test)"
   ]
  },
  {
   "cell_type": "code",
   "execution_count": 20,
   "metadata": {},
   "outputs": [
    {
     "data": {
      "text/plain": [
       "95.0"
      ]
     },
     "execution_count": 20,
     "metadata": {},
     "output_type": "execute_result"
    }
   ],
   "source": [
    "accuracy = np.sum(predicted == Y_test)/len(Y_test)\n",
    "accuracy*100"
   ]
  },
  {
   "cell_type": "code",
   "execution_count": 21,
   "metadata": {},
   "outputs": [],
   "source": [
    "#lda multi class "
   ]
  },
  {
   "cell_type": "code",
   "execution_count": 37,
   "metadata": {},
   "outputs": [
    {
     "data": {
      "text/plain": [
       "array([[ 0.        ,  0.        ,  0.        , ...,  0.        ,\n",
       "         0.        ,  0.        ],\n",
       "       [ 0.        ,  5.55436322, -0.52408495, ..., -0.11315803,\n",
       "         0.0288554 ,  0.0604846 ],\n",
       "       [ 0.        , -0.52408495, 11.2016627 , ..., -0.32092097,\n",
       "         0.13376658, -0.37080884],\n",
       "       ...,\n",
       "       [ 0.        , -0.11315803, -0.32092097, ...,  6.80534036,\n",
       "        -2.59668551,  0.28903381],\n",
       "       [ 0.        ,  0.0288554 ,  0.13376658, ..., -2.59668551,\n",
       "         5.13229932, -1.82612268],\n",
       "       [ 0.        ,  0.0604846 , -0.37080884, ...,  0.28903381,\n",
       "        -1.82612268,  2.83081735]])"
      ]
     },
     "execution_count": 37,
     "metadata": {},
     "output_type": "execute_result"
    }
   ],
   "source": [
    "X = data\n",
    "Y = labels\n",
    "X_train, X_test, Y_train, Y_test = train_test_split(X, Y, train_size=0.9) \n",
    "k = np.unique(labels).shape[0]\n",
    "pxl = X.shape[1] # defining no of pixels that is 64\n",
    "pi = np.zeros([k, 1])  # for finding prior probablities shape 10*1\n",
    "sigma = np.zeros([k, pxl, pxl])   # sigma matrix is of 10*64*64\n",
    "mean = np.zeros([k, pxl])     # mean will have a shape 10*64\n",
    "samples = X_train.shape[0]    #1617\n",
    "for i in range(k):\n",
    "    pi[i] = len(np.where(Y_train == i)[0])/samples   # calculating prior probabilities \n",
    "    mean[i] = np.mean(X_train[np.where(Y_train == i)[0]], axis=0)\n",
    "    sigma[i] = np.cov(X_train[np.where(Y_train == i)[0]].T)   # sigma is the covariance matrix of different classes\n",
    "sigma1 = np.zeros([pxl, pxl])   #64*64\n",
    "for i in range (k):\n",
    "    sigma1+=sigma[i] \n",
    "sigma1=sigma1/k\n",
    "sigma1=np.linalg.pinv(sigma1)\n",
    "#print(mean[0])\n",
    "#print(mean[0].shape[0])\n",
    "sigma1.shape\n",
    "sigma1"
   ]
  },
  {
   "cell_type": "code",
   "execution_count": 38,
   "metadata": {},
   "outputs": [],
   "source": [
    "def example(x):\n",
    "    estimator = np.zeros([k, 1])\n",
    "    for i in range(k):\n",
    "        estimator[i] = -0.5*(x-mean[i]).T@sigma1@(x-mean[i]) + np.log(pi[i])\n",
    "    return np.argmax(estimator)"
   ]
  },
  {
   "cell_type": "code",
   "execution_count": 39,
   "metadata": {},
   "outputs": [
    {
     "data": {
      "text/plain": [
       "180"
      ]
     },
     "execution_count": 39,
     "metadata": {},
     "output_type": "execute_result"
    }
   ],
   "source": [
    "predicted = np.zeros(Y_test.shape)\n",
    "for i in range(Y_test.shape[0]):\n",
    "    predicted[i] = example(X_test[i])\n",
    "Y_test.shape[0]"
   ]
  },
  {
   "cell_type": "code",
   "execution_count": 40,
   "metadata": {},
   "outputs": [
    {
     "data": {
      "text/plain": [
       "172"
      ]
     },
     "execution_count": 40,
     "metadata": {},
     "output_type": "execute_result"
    }
   ],
   "source": [
    "accuracy = np.sum(predicted == Y_test)/len(Y_test)\n",
    "np.sum(predicted==Y_test)"
   ]
  },
  {
   "cell_type": "code",
   "execution_count": 41,
   "metadata": {},
   "outputs": [
    {
     "data": {
      "text/plain": [
       "95.55555555555556"
      ]
     },
     "execution_count": 41,
     "metadata": {},
     "output_type": "execute_result"
    }
   ],
   "source": [
    "accuracy*100"
   ]
  },
  {
   "cell_type": "code",
   "execution_count": 27,
   "metadata": {},
   "outputs": [
    {
     "name": "stdout",
     "output_type": "stream",
     "text": [
      "[3. 6. 5. 0. 8. 4. 3. 5. 8. 8. 2. 7. 7. 4. 6. 0. 9. 1. 3. 5. 6. 0. 2. 3.\n",
      " 2. 9. 6. 1. 9. 4. 1. 5. 3. 5. 7. 6. 9. 4. 5. 8. 4. 5. 5. 2. 6. 3. 5. 9.\n",
      " 0. 6. 7. 4. 5. 2. 1. 4. 0. 4. 8. 0. 6. 2. 8. 4. 4. 2. 5. 0. 8. 8. 7. 2.\n",
      " 7. 9. 7. 3. 1. 9. 6. 9. 3. 7. 4. 9. 9. 6. 3. 1. 1. 8. 3. 9. 9. 6. 4. 4.\n",
      " 5. 6. 5. 2. 2. 7. 7. 2. 5. 3. 0. 4. 8. 1. 7. 6. 2. 2. 5. 5. 4. 3. 0. 9.\n",
      " 8. 1. 6. 3. 1. 0. 6. 3. 7. 4. 9. 1. 6. 1. 3. 3. 6. 6. 8. 0. 1. 4. 0. 6.\n",
      " 6. 1. 2. 9. 0. 3. 4. 1. 7. 2. 6. 2. 5. 8. 2. 8. 3. 0. 8. 4. 0. 2. 9. 5.\n",
      " 8. 6. 2. 4. 0. 6. 4. 6. 7. 1. 3. 5.]\n",
      "[3 6 5 0 8 4 3 5 8 8 2 7 7 4 6 0 9 1 3 5 6 0 2 3 2 9 6 1 9 4 1 5 3 5 7 6 9\n",
      " 4 5 8 4 5 5 2 6 3 5 9 0 6 7 4 5 2 1 4 0 4 8 0 6 2 8 4 4 2 5 0 8 8 7 2 7 9\n",
      " 7 3 1 6 6 9 3 7 4 9 9 6 3 1 1 9 3 9 9 6 4 4 5 6 5 2 2 7 7 2 5 3 0 4 8 1 7\n",
      " 6 2 2 5 5 4 3 0 9 8 1 6 3 1 0 6 3 7 4 9 1 6 1 3 3 6 6 4 0 1 4 0 6 6 1 2 9\n",
      " 0 3 4 1 7 2 6 2 5 8 2 8 3 0 7 4 0 2 9 5 8 6 2 4 0 6 4 6 7 1 3 5]\n"
     ]
    }
   ],
   "source": [
    "print(predicted)\n",
    "print(Y_test)"
   ]
  }
 ],
 "metadata": {
  "kernelspec": {
   "display_name": "Python 3",
   "language": "python",
   "name": "python3"
  },
  "language_info": {
   "codemirror_mode": {
    "name": "ipython",
    "version": 3
   },
   "file_extension": ".py",
   "mimetype": "text/x-python",
   "name": "python",
   "nbconvert_exporter": "python",
   "pygments_lexer": "ipython3",
   "version": "3.7.4"
  }
 },
 "nbformat": 4,
 "nbformat_minor": 2
}
