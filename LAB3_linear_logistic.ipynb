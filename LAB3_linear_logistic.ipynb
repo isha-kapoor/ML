{
 "cells": [
  {
   "cell_type": "code",
   "execution_count": 1,
   "metadata": {},
   "outputs": [],
   "source": [
    "import numpy as np\n",
    "from matplotlib import pyplot as plt\n",
    "import pandas as pd\n",
    "import random\n",
    "#from sklearn import metrics"
   ]
  },
  {
   "cell_type": "code",
   "execution_count": 2,
   "metadata": {},
   "outputs": [],
   "source": [
    "mat=pd.read_csv('ex2data1-logistic.csv')"
   ]
  },
  {
   "cell_type": "code",
   "execution_count": 3,
   "metadata": {},
   "outputs": [],
   "source": [
    "x1=mat['x1']\n",
    "x2=mat['x2']\n",
    "x1=np.array(x1.T)\n",
    "x2=np.array(x2.T)\n",
    "x1=(x1-np.mean(x1))/np.std(x1)\n",
    "x2=(x2-np.mean(x2))/np.std(x2)\n",
    "y=mat['y']\n",
    "y=np.array(y.T)"
   ]
  },
  {
   "cell_type": "code",
   "execution_count": 4,
   "metadata": {},
   "outputs": [
    {
     "data": {
      "text/plain": [
       "<matplotlib.collections.PathCollection at 0x10dd5570>"
      ]
     },
     "execution_count": 4,
     "metadata": {},
     "output_type": "execute_result"
    },
    {
     "data": {
      "image/png": "[encoded data removed]",
      "text/plain": [
       "<Figure size 432x288 with 1 Axes>"
      ]
     },
     "metadata": {
      "needs_background": "light"
     },
     "output_type": "display_data"
    }
   ],
   "source": [
    "c=['green','red']\n",
    "a=[]\n",
    "for i in range(100):\n",
    "    a.append(c[y[i]])\n",
    "\n",
    "plt.xlabel('x1')\n",
    "plt.ylabel('x2')\n",
    "plt.scatter(x1,x2,c=a)"
   ]
  },
  {
   "cell_type": "code",
   "execution_count": 5,
   "metadata": {},
   "outputs": [],
   "source": [
    "X0 = np.ones(shape=100,dtype='int')\n",
    "X0=X0.reshape(100, 1)\n",
    "temp=np.column_stack((X0,x1))\n"
   ]
  },
  {
   "cell_type": "code",
   "execution_count": 6,
   "metadata": {},
   "outputs": [
    {
     "data": {
      "text/plain": [
       "(100, 3)"
      ]
     },
     "execution_count": 6,
     "metadata": {},
     "output_type": "execute_result"
    }
   ],
   "source": [
    "X=np.column_stack((temp,x2))\n",
    "X.shape"
   ]
  },
  {
   "cell_type": "code",
   "execution_count": 7,
   "metadata": {},
   "outputs": [
    {
     "data": {
      "text/plain": [
       "(90,)"
      ]
     },
     "execution_count": 7,
     "metadata": {},
     "output_type": "execute_result"
    }
   ],
   "source": [
    "from sklearn.model_selection import train_test_split\n",
    "X_train, X_test, y_train, y_test = train_test_split(X, y, test_size=0.1)\n",
    "X_train.shape\n",
    "y_train.shape"
   ]
  },
  {
   "cell_type": "code",
   "execution_count": 8,
   "metadata": {},
   "outputs": [],
   "source": [
    "def sigmoid(theta, X): \n",
    "    return 1.0/(1 + np.exp(-np.dot(X, theta.T)))  "
   ]
  },
  {
   "cell_type": "code",
   "execution_count": 9,
   "metadata": {},
   "outputs": [],
   "source": [
    "def log(theta, X, y): \n",
    "    ans1 = sigmoid(theta, X) - y.reshape(X.shape[0],1) \n",
    "    ans = np.dot(ans1.T, X) \n",
    "    return ans"
   ]
  },
  {
   "cell_type": "code",
   "execution_count": 25,
   "metadata": {},
   "outputs": [
    {
     "data": {
      "text/plain": [
       "(100,)"
      ]
     },
     "execution_count": 25,
     "metadata": {},
     "output_type": "execute_result"
    }
   ],
   "source": [
    "y.reshape(X.shape[0],1) \n",
    "y.shape"
   ]
  },
  {
   "cell_type": "code",
   "execution_count": 11,
   "metadata": {},
   "outputs": [],
   "source": [
    "def cost_f(theta, X, y): \n",
    "    log_v = sigmoid(theta, X) \n",
    "    #y = np.squeeze(y) \n",
    "    step1 = y * np.log(log_v) \n",
    "    step2 = (1 - y) * np.log(1 - log_v) \n",
    "    final = -step1 - step2 \n",
    "    return np.mean(final)"
   ]
  },
  {
   "cell_type": "code",
   "execution_count": 12,
   "metadata": {},
   "outputs": [],
   "source": [
    "def grad_desc(X, y,theta, lr=.01, precision=.001): \n",
    "    cost = cost_f(theta, X, y) \n",
    "    change_cost = 1\n",
    "    num_iter = 1\n",
    "      \n",
    "    while(change_cost > precision): \n",
    "        old_cost = cost \n",
    "        theta = theta - (lr * log(theta, X, y)) \n",
    "        cost = cost_f(theta, X, y) \n",
    "        change_cost = old_cost - cost \n",
    "        num_iter += 1\n",
    "      \n",
    "    return theta, num_iter"
   ]
  },
  {
   "cell_type": "code",
   "execution_count": 13,
   "metadata": {},
   "outputs": [],
   "source": [
    "def pred(theta, X): \n",
    "    pred_prob = sigmoid(theta, X) \n",
    "    pred_value = np.where(pred_prob >= .5, 1, 0) \n",
    "    return np.squeeze(pred_value)"
   ]
  },
  {
   "cell_type": "code",
   "execution_count": 14,
   "metadata": {},
   "outputs": [],
   "source": [
    "def plot_reg(X, y, theta): \n",
    "    x_0 = X[np.where(y == 0.0)] \n",
    "    x_1 = X[np.where(y == 1.0)] \n",
    "    plt.scatter([x_0[:, 1]], [x_0[:, 2]], c='g', label='y = 0') \n",
    "    plt.scatter([x_1[:, 1]], [x_1[:, 2]], c='r', label='y = 1')  \n",
    "    x1 = np.arange(-2, 2, 0.1) \n",
    "    x2 = -(theta[0,0] + theta[0,1]*x1)/theta[0,2] \n",
    "    plt.plot(x1, x2, c='k')   \n",
    "    plt.xlabel('x1') \n",
    "    plt.ylabel('x2') \n",
    "    plt.legend() \n",
    "    plt.show()\n",
    "    print(x2)"
   ]
  },
  {
   "cell_type": "code",
   "execution_count": 15,
   "metadata": {},
   "outputs": [],
   "source": [
    "theta = np.matrix(np.zeros(X.shape[1]))\n"
   ]
  },
  {
   "cell_type": "code",
   "execution_count": 16,
   "metadata": {},
   "outputs": [],
   "source": [
    "theta, num_iter = grad_desc(X_train, y_train, theta) "
   ]
  },
  {
   "cell_type": "code",
   "execution_count": 17,
   "metadata": {},
   "outputs": [
    {
     "name": "stdout",
     "output_type": "stream",
     "text": [
      "(1, 3)\n",
      "theta valued: [[1.4277461  3.5649588  3.25369857]]\n",
      "No. of iterations: 248\n"
     ]
    }
   ],
   "source": [
    "print(theta.shape)\n",
    "print(\"theta valued:\", theta) \n",
    "print(\"No. of iterations:\", num_iter) "
   ]
  },
  {
   "cell_type": "code",
   "execution_count": 18,
   "metadata": {},
   "outputs": [],
   "source": [
    "y_pred1 = pred(theta, X_train)"
   ]
  },
  {
   "cell_type": "code",
   "execution_count": 19,
   "metadata": {},
   "outputs": [
    {
     "name": "stdout",
     "output_type": "stream",
     "text": [
      "Correctly predicted labels: 80\n",
      "Accuracy 88.88888888888889\n"
     ]
    }
   ],
   "source": [
    "print(\"Correctly predicted labels:\", np.sum(y_train == y_pred1))\n",
    "print(\"Accuracy\", (np.sum(y_train==y_pred1)*100)/90)"
   ]
  },
  {
   "cell_type": "code",
   "execution_count": 20,
   "metadata": {},
   "outputs": [],
   "source": [
    "y_pred = pred(theta, X_test)"
   ]
  },
  {
   "cell_type": "code",
   "execution_count": 21,
   "metadata": {},
   "outputs": [
    {
     "name": "stdout",
     "output_type": "stream",
     "text": [
      "Correctly predicted labels: 9\n",
      "Accuracy 90.0\n"
     ]
    }
   ],
   "source": [
    "print(\"Correctly predicted labels:\", np.sum(y_test == y_pred))\n",
    "print(\"Accuracy\", (np.sum(y_test==y_pred)*100)/10)"
   ]
  },
  {
   "cell_type": "code",
   "execution_count": 22,
   "metadata": {},
   "outputs": [
    {
     "data": {
      "image/png": "[encoded data removed]",
      "text/plain": [
       "<Figure size 432x288 with 1 Axes>"
      ]
     },
     "metadata": {
      "needs_background": "light"
     },
     "output_type": "display_data"
    },
    {
     "name": "stdout",
     "output_type": "stream",
     "text": [
      "[ 1.75251990e+00  1.64295355e+00  1.53338720e+00  1.42382085e+00\n",
      "  1.31425450e+00  1.20468815e+00  1.09512180e+00  9.85555446e-01\n",
      "  8.75989094e-01  7.66422743e-01  6.56856392e-01  5.47290041e-01\n",
      "  4.37723690e-01  3.28157339e-01  2.18590988e-01  1.09024637e-01\n",
      " -5.41714583e-04 -1.10108066e-01 -2.19674417e-01 -3.29240768e-01\n",
      " -4.38807119e-01 -5.48373470e-01 -6.57939821e-01 -7.67506173e-01\n",
      " -8.77072524e-01 -9.86638875e-01 -1.09620523e+00 -1.20577158e+00\n",
      " -1.31533793e+00 -1.42490428e+00 -1.53447063e+00 -1.64403698e+00\n",
      " -1.75360333e+00 -1.86316968e+00 -1.97273603e+00 -2.08230239e+00\n",
      " -2.19186874e+00 -2.30143509e+00 -2.41100144e+00 -2.52056779e+00]\n"
     ]
    }
   ],
   "source": [
    "plot_reg(X, y, theta) "
   ]
  },
  {
   "cell_type": "code",
   "execution_count": 23,
   "metadata": {},
   "outputs": [
    {
     "data": {
      "image/png": "[encoded data removed]",
      "text/plain": [
       "<Figure size 432x288 with 1 Axes>"
      ]
     },
     "metadata": {
      "needs_background": "light"
     },
     "output_type": "display_data"
    },
    {
     "name": "stdout",
     "output_type": "stream",
     "text": [
      "[ 1.75251990e+00  1.64295355e+00  1.53338720e+00  1.42382085e+00\n",
      "  1.31425450e+00  1.20468815e+00  1.09512180e+00  9.85555446e-01\n",
      "  8.75989094e-01  7.66422743e-01  6.56856392e-01  5.47290041e-01\n",
      "  4.37723690e-01  3.28157339e-01  2.18590988e-01  1.09024637e-01\n",
      " -5.41714583e-04 -1.10108066e-01 -2.19674417e-01 -3.29240768e-01\n",
      " -4.38807119e-01 -5.48373470e-01 -6.57939821e-01 -7.67506173e-01\n",
      " -8.77072524e-01 -9.86638875e-01 -1.09620523e+00 -1.20577158e+00\n",
      " -1.31533793e+00 -1.42490428e+00 -1.53447063e+00 -1.64403698e+00\n",
      " -1.75360333e+00 -1.86316968e+00 -1.97273603e+00 -2.08230239e+00\n",
      " -2.19186874e+00 -2.30143509e+00 -2.41100144e+00 -2.52056779e+00]\n"
     ]
    }
   ],
   "source": [
    "plot_reg(X_test,y_test,theta)"
   ]
  },
  {
   "cell_type": "code",
   "execution_count": 24,
   "metadata": {},
   "outputs": [
    {
     "data": {
      "image/png": "[encoded data removed]",
      "text/plain": [
       "<Figure size 432x288 with 1 Axes>"
      ]
     },
     "metadata": {
      "needs_background": "light"
     },
     "output_type": "display_data"
    },
    {
     "name": "stdout",
     "output_type": "stream",
     "text": [
      "[ 1.75251990e+00  1.64295355e+00  1.53338720e+00  1.42382085e+00\n",
      "  1.31425450e+00  1.20468815e+00  1.09512180e+00  9.85555446e-01\n",
      "  8.75989094e-01  7.66422743e-01  6.56856392e-01  5.47290041e-01\n",
      "  4.37723690e-01  3.28157339e-01  2.18590988e-01  1.09024637e-01\n",
      " -5.41714583e-04 -1.10108066e-01 -2.19674417e-01 -3.29240768e-01\n",
      " -4.38807119e-01 -5.48373470e-01 -6.57939821e-01 -7.67506173e-01\n",
      " -8.77072524e-01 -9.86638875e-01 -1.09620523e+00 -1.20577158e+00\n",
      " -1.31533793e+00 -1.42490428e+00 -1.53447063e+00 -1.64403698e+00\n",
      " -1.75360333e+00 -1.86316968e+00 -1.97273603e+00 -2.08230239e+00\n",
      " -2.19186874e+00 -2.30143509e+00 -2.41100144e+00 -2.52056779e+00]\n"
     ]
    }
   ],
   "source": [
    "plot_reg(X_train,y_train,theta)"
   ]
  }
 ],
 "metadata": {
  "kernelspec": {
   "display_name": "Python 3",
   "language": "python",
   "name": "python3"
  },
  "language_info": {
   "codemirror_mode": {
    "name": "ipython",
    "version": 3
   },
   "file_extension": ".py",
   "mimetype": "text/x-python",
   "name": "python",
   "nbconvert_exporter": "python",
   "pygments_lexer": "ipython3",
   "version": "3.7.4"
  }
 },
 "nbformat": 4,
 "nbformat_minor": 2
}
