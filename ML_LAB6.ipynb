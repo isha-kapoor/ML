{
 "cells": [
  {
   "cell_type": "code",
   "execution_count": 12,
   "metadata": {
    "colab": {},
    "colab_type": "code",
    "id": "eCSXW5C0ObY0"
   },
   "outputs": [],
   "source": [
    "import numpy as np\n",
    "import pandas as pd\n",
    "import matplotlib.pyplot as plt\n",
    "from sympy import *\n",
    "import random as rn"
   ]
  },
  {
   "cell_type": "code",
   "execution_count": 13,
   "metadata": {
    "colab": {},
    "colab_type": "code",
    "id": "f96VMEMhObY9"
   },
   "outputs": [
    {
     "ename": "OSError",
     "evalue": "Unable to open file (unable to open file: name = 'faceimages.mat', errno = 2, error message = 'No such file or directory', flags = 0, o_flags = 0)",
     "output_type": "error",
     "traceback": [
      "\u001b[1;31m---------------------------------------------------------------------------\u001b[0m",
      "\u001b[1;31mOSError\u001b[0m                                   Traceback (most recent call last)",
      "\u001b[1;32m<ipython-input-13-74c652929d5f>\u001b[0m in \u001b[0;36m<module>\u001b[1;34m\u001b[0m\n\u001b[0;32m      1\u001b[0m \u001b[1;32mimport\u001b[0m \u001b[0mh5py\u001b[0m\u001b[1;33m\u001b[0m\u001b[1;33m\u001b[0m\u001b[0m\n\u001b[1;32m----> 2\u001b[1;33m \u001b[0mX\u001b[0m \u001b[1;33m=\u001b[0m \u001b[0mh5py\u001b[0m\u001b[1;33m.\u001b[0m\u001b[0mFile\u001b[0m\u001b[1;33m(\u001b[0m\u001b[1;34m\"faceimages.mat\"\u001b[0m\u001b[1;33m,\u001b[0m\u001b[1;34m'r'\u001b[0m\u001b[1;33m)\u001b[0m\u001b[1;33m\u001b[0m\u001b[1;33m\u001b[0m\u001b[0m\n\u001b[0m\u001b[0;32m      3\u001b[0m \u001b[0mdata\u001b[0m\u001b[1;33m=\u001b[0m\u001b[0mX\u001b[0m\u001b[1;33m.\u001b[0m\u001b[0mget\u001b[0m\u001b[1;33m(\u001b[0m\u001b[1;34m'data'\u001b[0m\u001b[1;33m)\u001b[0m\u001b[1;33m\u001b[0m\u001b[1;33m\u001b[0m\u001b[0m\n",
      "\u001b[1;32mc:\\users\\user\\appdata\\local\\programs\\python\\python37-32\\lib\\site-packages\\h5py\\_hl\\files.py\u001b[0m in \u001b[0;36m__init__\u001b[1;34m(self, name, mode, driver, libver, userblock_size, swmr, rdcc_nslots, rdcc_nbytes, rdcc_w0, track_order, **kwds)\u001b[0m\n\u001b[0;32m    406\u001b[0m                 fid = make_fid(name, mode, userblock_size,\n\u001b[0;32m    407\u001b[0m                                \u001b[0mfapl\u001b[0m\u001b[1;33m,\u001b[0m \u001b[0mfcpl\u001b[0m\u001b[1;33m=\u001b[0m\u001b[0mmake_fcpl\u001b[0m\u001b[1;33m(\u001b[0m\u001b[0mtrack_order\u001b[0m\u001b[1;33m=\u001b[0m\u001b[0mtrack_order\u001b[0m\u001b[1;33m)\u001b[0m\u001b[1;33m,\u001b[0m\u001b[1;33m\u001b[0m\u001b[1;33m\u001b[0m\u001b[0m\n\u001b[1;32m--> 408\u001b[1;33m                                swmr=swmr)\n\u001b[0m\u001b[0;32m    409\u001b[0m \u001b[1;33m\u001b[0m\u001b[0m\n\u001b[0;32m    410\u001b[0m             \u001b[1;32mif\u001b[0m \u001b[0misinstance\u001b[0m\u001b[1;33m(\u001b[0m\u001b[0mlibver\u001b[0m\u001b[1;33m,\u001b[0m \u001b[0mtuple\u001b[0m\u001b[1;33m)\u001b[0m\u001b[1;33m:\u001b[0m\u001b[1;33m\u001b[0m\u001b[1;33m\u001b[0m\u001b[0m\n",
      "\u001b[1;32mc:\\users\\user\\appdata\\local\\programs\\python\\python37-32\\lib\\site-packages\\h5py\\_hl\\files.py\u001b[0m in \u001b[0;36mmake_fid\u001b[1;34m(name, mode, userblock_size, fapl, fcpl, swmr)\u001b[0m\n\u001b[0;32m    171\u001b[0m         \u001b[1;32mif\u001b[0m \u001b[0mswmr\u001b[0m \u001b[1;32mand\u001b[0m \u001b[0mswmr_support\u001b[0m\u001b[1;33m:\u001b[0m\u001b[1;33m\u001b[0m\u001b[1;33m\u001b[0m\u001b[0m\n\u001b[0;32m    172\u001b[0m             \u001b[0mflags\u001b[0m \u001b[1;33m|=\u001b[0m \u001b[0mh5f\u001b[0m\u001b[1;33m.\u001b[0m\u001b[0mACC_SWMR_READ\u001b[0m\u001b[1;33m\u001b[0m\u001b[1;33m\u001b[0m\u001b[0m\n\u001b[1;32m--> 173\u001b[1;33m         \u001b[0mfid\u001b[0m \u001b[1;33m=\u001b[0m \u001b[0mh5f\u001b[0m\u001b[1;33m.\u001b[0m\u001b[0mopen\u001b[0m\u001b[1;33m(\u001b[0m\u001b[0mname\u001b[0m\u001b[1;33m,\u001b[0m \u001b[0mflags\u001b[0m\u001b[1;33m,\u001b[0m \u001b[0mfapl\u001b[0m\u001b[1;33m=\u001b[0m\u001b[0mfapl\u001b[0m\u001b[1;33m)\u001b[0m\u001b[1;33m\u001b[0m\u001b[1;33m\u001b[0m\u001b[0m\n\u001b[0m\u001b[0;32m    174\u001b[0m     \u001b[1;32melif\u001b[0m \u001b[0mmode\u001b[0m \u001b[1;33m==\u001b[0m \u001b[1;34m'r+'\u001b[0m\u001b[1;33m:\u001b[0m\u001b[1;33m\u001b[0m\u001b[1;33m\u001b[0m\u001b[0m\n\u001b[0;32m    175\u001b[0m         \u001b[0mfid\u001b[0m \u001b[1;33m=\u001b[0m \u001b[0mh5f\u001b[0m\u001b[1;33m.\u001b[0m\u001b[0mopen\u001b[0m\u001b[1;33m(\u001b[0m\u001b[0mname\u001b[0m\u001b[1;33m,\u001b[0m \u001b[0mh5f\u001b[0m\u001b[1;33m.\u001b[0m\u001b[0mACC_RDWR\u001b[0m\u001b[1;33m,\u001b[0m \u001b[0mfapl\u001b[0m\u001b[1;33m=\u001b[0m\u001b[0mfapl\u001b[0m\u001b[1;33m)\u001b[0m\u001b[1;33m\u001b[0m\u001b[1;33m\u001b[0m\u001b[0m\n",
      "\u001b[1;32mh5py\\_objects.pyx\u001b[0m in \u001b[0;36mh5py._objects.with_phil.wrapper\u001b[1;34m()\u001b[0m\n",
      "\u001b[1;32mh5py\\_objects.pyx\u001b[0m in \u001b[0;36mh5py._objects.with_phil.wrapper\u001b[1;34m()\u001b[0m\n",
      "\u001b[1;32mh5py\\h5f.pyx\u001b[0m in \u001b[0;36mh5py.h5f.open\u001b[1;34m()\u001b[0m\n",
      "\u001b[1;31mOSError\u001b[0m: Unable to open file (unable to open file: name = 'faceimages.mat', errno = 2, error message = 'No such file or directory', flags = 0, o_flags = 0)"
     ]
    }
   ],
   "source": [
    "import h5py\n",
    "X = h5py.File(\"faceimages.mat \",'r')\n",
    "data=X.get('data')  "
   ]
  },
  {
   "cell_type": "code",
   "execution_count": 8,
   "metadata": {
    "colab": {
     "base_uri": "https://localhost:8080/",
     "height": 34
    },
    "colab_type": "code",
    "executionInfo": {
     "elapsed": 1312,
     "status": "ok",
     "timestamp": 1573271380698,
     "user": {
      "displayName": "Yashvi Shah",
      "photoUrl": "https://lh3.googleusercontent.com/a-/AAuE7mDDnYz9Gdcct7Nmg4w8TU9kmSoZ9ovsmVMdlsSpwQ=s64",
      "userId": "11145621582853419399"
     },
     "user_tz": -330
    },
    "id": "rqV-sBgkObZF",
    "outputId": "fea73d90-5561-4778-e464-89e311cea32c"
   },
   "outputs": [
    {
     "ename": "NameError",
     "evalue": "name 'data' is not defined",
     "output_type": "error",
     "traceback": [
      "\u001b[1;31m---------------------------------------------------------------------------\u001b[0m",
      "\u001b[1;31mNameError\u001b[0m                                 Traceback (most recent call last)",
      "\u001b[1;32m<ipython-input-8-cba13c0c0919>\u001b[0m in \u001b[0;36m<module>\u001b[1;34m\u001b[0m\n\u001b[1;32m----> 1\u001b[1;33m \u001b[0mx\u001b[0m\u001b[1;33m=\u001b[0m\u001b[0mnp\u001b[0m\u001b[1;33m.\u001b[0m\u001b[0marray\u001b[0m\u001b[1;33m(\u001b[0m\u001b[0mdata\u001b[0m\u001b[1;33m)\u001b[0m\u001b[1;33m\u001b[0m\u001b[1;33m\u001b[0m\u001b[0m\n\u001b[0m\u001b[0;32m      2\u001b[0m \u001b[0mx\u001b[0m\u001b[1;33m=\u001b[0m\u001b[0mx\u001b[0m\u001b[1;33m[\u001b[0m\u001b[1;33m:\u001b[0m\u001b[1;36m10304\u001b[0m\u001b[1;33m,\u001b[0m\u001b[1;33m:\u001b[0m\u001b[1;33m]\u001b[0m\u001b[1;33m\u001b[0m\u001b[1;33m\u001b[0m\u001b[0m\n\u001b[0;32m      3\u001b[0m \u001b[0mprint\u001b[0m\u001b[1;33m(\u001b[0m\u001b[0mx\u001b[0m\u001b[1;33m.\u001b[0m\u001b[0mshape\u001b[0m\u001b[1;33m)\u001b[0m  \u001b[1;31m# 400 images with 10304 pixels in a image\u001b[0m\u001b[1;33m\u001b[0m\u001b[1;33m\u001b[0m\u001b[0m\n",
      "\u001b[1;31mNameError\u001b[0m: name 'data' is not defined"
     ]
    }
   ],
   "source": [
    "x=np.array(data)\n",
    "x=x[:10304,:]\n",
    "print(x.shape)  # 400 images with 10304 pixels in a image "
   ]
  },
  {
   "cell_type": "code",
   "execution_count": 9,
   "metadata": {
    "colab": {
     "base_uri": "https://localhost:8080/",
     "height": 34
    },
    "colab_type": "code",
    "executionInfo": {
     "elapsed": 1004,
     "status": "ok",
     "timestamp": 1573271383600,
     "user": {
      "displayName": "Yashvi Shah",
      "photoUrl": "https://lh3.googleusercontent.com/a-/AAuE7mDDnYz9Gdcct7Nmg4w8TU9kmSoZ9ovsmVMdlsSpwQ=s64",
      "userId": "11145621582853419399"
     },
     "user_tz": -330
    },
    "id": "3o4OgJqcObZg",
    "outputId": "1b4076f5-6cce-41dc-c61a-5091d5ba7234"
   },
   "outputs": [
    {
     "ename": "NameError",
     "evalue": "name 'x' is not defined",
     "output_type": "error",
     "traceback": [
      "\u001b[1;31m---------------------------------------------------------------------------\u001b[0m",
      "\u001b[1;31mNameError\u001b[0m                                 Traceback (most recent call last)",
      "\u001b[1;32m<ipython-input-9-4151201988be>\u001b[0m in \u001b[0;36m<module>\u001b[1;34m\u001b[0m\n\u001b[1;32m----> 1\u001b[1;33m \u001b[0mmean\u001b[0m\u001b[1;33m=\u001b[0m\u001b[0mnp\u001b[0m\u001b[1;33m.\u001b[0m\u001b[0mmean\u001b[0m\u001b[1;33m(\u001b[0m\u001b[0mx\u001b[0m\u001b[1;33m,\u001b[0m\u001b[0maxis\u001b[0m\u001b[1;33m=\u001b[0m\u001b[1;36m1\u001b[0m\u001b[1;33m)\u001b[0m \u001b[1;31m#mean along the horizontal line with 10304 means\u001b[0m\u001b[1;33m\u001b[0m\u001b[1;33m\u001b[0m\u001b[0m\n\u001b[0m\u001b[0;32m      2\u001b[0m \u001b[0mprint\u001b[0m\u001b[1;33m(\u001b[0m\u001b[0mmean\u001b[0m\u001b[1;33m.\u001b[0m\u001b[0mshape\u001b[0m\u001b[1;33m)\u001b[0m\u001b[1;33m\u001b[0m\u001b[1;33m\u001b[0m\u001b[0m\n\u001b[0;32m      3\u001b[0m \u001b[1;32mfor\u001b[0m \u001b[0mi\u001b[0m \u001b[1;32min\u001b[0m \u001b[0mrange\u001b[0m \u001b[1;33m(\u001b[0m\u001b[1;36m400\u001b[0m\u001b[1;33m)\u001b[0m\u001b[1;33m:\u001b[0m\u001b[1;33m\u001b[0m\u001b[1;33m\u001b[0m\u001b[0m\n\u001b[0;32m      4\u001b[0m     \u001b[0mx\u001b[0m\u001b[1;33m[\u001b[0m\u001b[1;33m:\u001b[0m\u001b[1;33m,\u001b[0m\u001b[0mi\u001b[0m\u001b[1;33m]\u001b[0m\u001b[1;33m=\u001b[0m\u001b[0mx\u001b[0m\u001b[1;33m[\u001b[0m\u001b[1;33m:\u001b[0m\u001b[1;33m,\u001b[0m\u001b[0mi\u001b[0m\u001b[1;33m]\u001b[0m\u001b[1;33m-\u001b[0m\u001b[0mmean\u001b[0m\u001b[1;33m\u001b[0m\u001b[1;33m\u001b[0m\u001b[0m\n\u001b[0;32m      5\u001b[0m \u001b[0mprint\u001b[0m\u001b[1;33m(\u001b[0m\u001b[0mmean\u001b[0m\u001b[1;33m.\u001b[0m\u001b[0mshape\u001b[0m\u001b[1;33m)\u001b[0m\u001b[1;33m\u001b[0m\u001b[1;33m\u001b[0m\u001b[0m\n",
      "\u001b[1;31mNameError\u001b[0m: name 'x' is not defined"
     ]
    }
   ],
   "source": [
    "mean=np.mean(x,axis=1) #mean along the horizontal line with 10304 means \n",
    "print(mean.shape)\n",
    "for i in range (400):\n",
    "    x[:,i]=x[:,i]-mean\n",
    "print(mean.shape)"
   ]
  },
  {
   "cell_type": "code",
   "execution_count": 2,
   "metadata": {
    "colab": {},
    "colab_type": "code",
    "id": "wpvSrwbaObZy"
   },
   "outputs": [
    {
     "ename": "NameError",
     "evalue": "name 'x' is not defined",
     "output_type": "error",
     "traceback": [
      "\u001b[1;31m---------------------------------------------------------------------------\u001b[0m",
      "\u001b[1;31mNameError\u001b[0m                                 Traceback (most recent call last)",
      "\u001b[1;32m<ipython-input-2-da6da196ec93>\u001b[0m in \u001b[0;36m<module>\u001b[1;34m\u001b[0m\n\u001b[1;32m----> 1\u001b[1;33m \u001b[0mcov_mat\u001b[0m\u001b[1;33m=\u001b[0m\u001b[0mnp\u001b[0m\u001b[1;33m.\u001b[0m\u001b[0mcov\u001b[0m\u001b[1;33m(\u001b[0m\u001b[0mx\u001b[0m\u001b[1;33m)\u001b[0m\u001b[1;33m\u001b[0m\u001b[1;33m\u001b[0m\u001b[0m\n\u001b[0m",
      "\u001b[1;31mNameError\u001b[0m: name 'x' is not defined"
     ]
    }
   ],
   "source": [
    "cov_mat=np.cov(x)"
   ]
  },
  {
   "cell_type": "code",
   "execution_count": 0,
   "metadata": {
    "colab": {
     "base_uri": "https://localhost:8080/",
     "height": 34
    },
    "colab_type": "code",
    "executionInfo": {
     "elapsed": 2371,
     "status": "ok",
     "timestamp": 1573271417270,
     "user": {
      "displayName": "Yashvi Shah",
      "photoUrl": "https://lh3.googleusercontent.com/a-/AAuE7mDDnYz9Gdcct7Nmg4w8TU9kmSoZ9ovsmVMdlsSpwQ=s64",
      "userId": "11145621582853419399"
     },
     "user_tz": -330
    },
    "id": "P6Sumal3ObaS",
    "outputId": "7116b6fc-0208-4255-cce3-ecdbfb927f3e"
   },
   "outputs": [
    {
     "name": "stdout",
     "output_type": "stream",
     "text": [
      "(10304, 10304)\n"
     ]
    }
   ],
   "source": [
    "print(cov_mat.shape)"
   ]
  },
  {
   "cell_type": "code",
   "execution_count": 0,
   "metadata": {
    "colab": {},
    "colab_type": "code",
    "id": "cZvP9eBWObam"
   },
   "outputs": [],
   "source": [
    "values, vectors = np.linalg.eig(cov_mat)"
   ]
  },
  {
   "cell_type": "code",
   "execution_count": 0,
   "metadata": {
    "colab": {
     "base_uri": "https://localhost:8080/",
     "height": 34
    },
    "colab_type": "code",
    "executionInfo": {
     "elapsed": 2619,
     "status": "ok",
     "timestamp": 1573272456198,
     "user": {
      "displayName": "Yashvi Shah",
      "photoUrl": "https://lh3.googleusercontent.com/a-/AAuE7mDDnYz9Gdcct7Nmg4w8TU9kmSoZ9ovsmVMdlsSpwQ=s64",
      "userId": "11145621582853419399"
     },
     "user_tz": -330
    },
    "id": "yys1XcRHObbX",
    "outputId": "4d608bb0-f5f9-4d00-aa6b-c19c8b809308"
   },
   "outputs": [
    {
     "name": "stdout",
     "output_type": "stream",
     "text": [
      "[  0   1   2 ... 405 402 400]\n"
     ]
    }
   ],
   "source": [
    "idx=values.argsort()[::-1] #reverse the values array\n",
    "print(idx)\n",
    "eigval=values[idx]\n",
    "eigvec=vectors[:,idx]\n",
    "eigvec=eigvec.transpose()"
   ]
  },
  {
   "cell_type": "code",
   "execution_count": 0,
   "metadata": {
    "colab": {
     "base_uri": "https://localhost:8080/",
     "height": 51
    },
    "colab_type": "code",
    "executionInfo": {
     "elapsed": 1305,
     "status": "ok",
     "timestamp": 1573272523914,
     "user": {
      "displayName": "Yashvi Shah",
      "photoUrl": "https://lh3.googleusercontent.com/a-/AAuE7mDDnYz9Gdcct7Nmg4w8TU9kmSoZ9ovsmVMdlsSpwQ=s64",
      "userId": "11145621582853419399"
     },
     "user_tz": -330
    },
    "id": "zfihU3jgVeit",
    "outputId": "4f1a67c7-8d7b-40bd-ab8a-fbf8bb6a420a"
   },
   "outputs": [
    {
     "name": "stdout",
     "output_type": "stream",
     "text": [
      "(10304,)\n",
      "(10304, 10304)\n"
     ]
    }
   ],
   "source": [
    "print(eigval.shape)\n",
    "print(eigvec.shape)"
   ]
  },
  {
   "cell_type": "code",
   "execution_count": 0,
   "metadata": {
    "colab": {},
    "colab_type": "code",
    "id": "kB2JMlcjWZYJ"
   },
   "outputs": [],
   "source": [
    "x_rec=np.array([np.zeros_like(x[:,0]),np.zeros_like(x[:,0]),np.zeros_like(x[:,0]),np.zeros_like(x[:,0])])"
   ]
  },
  {
   "cell_type": "code",
   "execution_count": 0,
   "metadata": {
    "colab": {
     "base_uri": "https://localhost:8080/",
     "height": 34
    },
    "colab_type": "code",
    "executionInfo": {
     "elapsed": 1058,
     "status": "ok",
     "timestamp": 1573273653733,
     "user": {
      "displayName": "Yashvi Shah",
      "photoUrl": "https://lh3.googleusercontent.com/a-/AAuE7mDDnYz9Gdcct7Nmg4w8TU9kmSoZ9ovsmVMdlsSpwQ=s64",
      "userId": "11145621582853419399"
     },
     "user_tz": -330
    },
    "id": "Q7UUfwhnZMOK",
    "outputId": "b531467e-099c-4c1d-cdf5-46a9d23193ee"
   },
   "outputs": [
    {
     "name": "stdout",
     "output_type": "stream",
     "text": [
      "(4, 10304)\n"
     ]
    }
   ],
   "source": [
    "print(x_rec.shape)"
   ]
  },
  {
   "cell_type": "code",
   "execution_count": 0,
   "metadata": {
    "colab": {},
    "colab_type": "code",
    "id": "grOTw8mQbrbN"
   },
   "outputs": [],
   "source": [
    "y=np.matmul(eigvec, x)"
   ]
  },
  {
   "cell_type": "code",
   "execution_count": 0,
   "metadata": {
    "colab": {
     "base_uri": "https://localhost:8080/",
     "height": 34
    },
    "colab_type": "code",
    "executionInfo": {
     "elapsed": 1015,
     "status": "ok",
     "timestamp": 1573274147905,
     "user": {
      "displayName": "Yashvi Shah",
      "photoUrl": "https://lh3.googleusercontent.com/a-/AAuE7mDDnYz9Gdcct7Nmg4w8TU9kmSoZ9ovsmVMdlsSpwQ=s64",
      "userId": "11145621582853419399"
     },
     "user_tz": -330
    },
    "id": "iuxur04AchpP",
    "outputId": "81a51362-3187-4769-852f-09d337509add"
   },
   "outputs": [
    {
     "name": "stdout",
     "output_type": "stream",
     "text": [
      "(10304, 400)\n"
     ]
    }
   ],
   "source": [
    "print(y.shape)"
   ]
  },
  {
   "cell_type": "code",
   "execution_count": 0,
   "metadata": {
    "colab": {
     "base_uri": "https://localhost:8080/",
     "height": 153
    },
    "colab_type": "code",
    "executionInfo": {
     "elapsed": 874,
     "status": "ok",
     "timestamp": 1573274834218,
     "user": {
      "displayName": "Yashvi Shah",
      "photoUrl": "https://lh3.googleusercontent.com/a-/AAuE7mDDnYz9Gdcct7Nmg4w8TU9kmSoZ9ovsmVMdlsSpwQ=s64",
      "userId": "11145621582853419399"
     },
     "user_tz": -330
    },
    "id": "MqCw6HkRbzZi",
    "outputId": "6f6d360c-6df7-4b22-ff61-7406f93c1db0"
   },
   "outputs": [
    {
     "name": "stderr",
     "output_type": "stream",
     "text": [
      "/usr/local/lib/python3.6/dist-packages/ipykernel_launcher.py:1: ComplexWarning: Casting complex values to real discards the imaginary part\n",
      "  \"\"\"Entry point for launching an IPython kernel.\n",
      "/usr/local/lib/python3.6/dist-packages/ipykernel_launcher.py:2: ComplexWarning: Casting complex values to real discards the imaginary part\n",
      "  \n",
      "/usr/local/lib/python3.6/dist-packages/ipykernel_launcher.py:3: ComplexWarning: Casting complex values to real discards the imaginary part\n",
      "  This is separate from the ipykernel package so we can avoid doing imports until\n",
      "/usr/local/lib/python3.6/dist-packages/ipykernel_launcher.py:4: ComplexWarning: Casting complex values to real discards the imaginary part\n",
      "  after removing the cwd from sys.path.\n"
     ]
    }
   ],
   "source": [
    "x_rec[0] = np.matmul(eigvec.transpose()[:,:10304], y[:10304,0])\n",
    "x_rec[1] = np.matmul(eigvec.transpose()[:,:400], y[:400,0])\n",
    "x_rec[2] = np.matmul(eigvec.transpose()[:,:100], y[:100,0])\n",
    "x_rec[3] = np.matmul(eigvec.transpose()[:,:50], y[:50,0])"
   ]
  },
  {
   "cell_type": "code",
   "execution_count": 0,
   "metadata": {
    "colab": {
     "base_uri": "https://localhost:8080/",
     "height": 703
    },
    "colab_type": "code",
    "executionInfo": {
     "elapsed": 1980,
     "status": "ok",
     "timestamp": 1573274988868,
     "user": {
      "displayName": "Yashvi Shah",
      "photoUrl": "https://lh3.googleusercontent.com/a-/AAuE7mDDnYz9Gdcct7Nmg4w8TU9kmSoZ9ovsmVMdlsSpwQ=s64",
      "userId": "11145621582853419399"
     },
     "user_tz": -330
    },
    "id": "8ExHrwHVfSbh",
    "outputId": "978ad420-524e-438b-e00e-7d2bf0a9e46f"
   },
   "outputs": [
    {
     "data": {
      "image/png": "[encoded data removed]",
      "text/plain": [
       "<Figure size 864x864 with 4 Axes>"
      ]
     },
     "metadata": {
      "tags": []
     },
     "output_type": "display_data"
    }
   ],
   "source": [
    "f,(axs1,axs2,axs3,axs4)=plt.subplots(4,1,figsize=(12,12))\n",
    "temp=x_rec[0].reshape(92,112)\n",
    "temp=np.real(temp)+137\n",
    "axs1.imshow(np.real(temp),cmap='gray',vmin=0,vmax=255)\n",
    "temp=x_rec[1].reshape(92,112)\n",
    "temp=np.real(temp)+137\n",
    "axs2.imshow(np.real(temp),cmap='gray',vmin=0,vmax=255)\n",
    "temp=x_rec[2].reshape(92,112)\n",
    "temp=np.real(temp)+137\n",
    "axs3.imshow(np.real(temp),cmap='gray',vmin=0,vmax=255)\n",
    "temp=x_rec[3].reshape(92,112)\n",
    "temp=np.real(temp)+137\n",
    "axs4.imshow(np.real(temp),cmap='gray',vmin=0,vmax=255)\n",
    "plt.show()"
   ]
  },
  {
   "cell_type": "code",
   "execution_count": 0,
   "metadata": {
    "colab": {},
    "colab_type": "code",
    "id": "GdDLt8ZWgLMM"
   },
   "outputs": [],
   "source": [
    "e0 = np.linalg.norm(x[:,0] - x_rec[0])\n",
    "e1 = np.linalg.norm(x[:,0] - x_rec[1])\n",
    "e2 = np.linalg.norm(x[:,0] - x_rec[2])\n",
    "e3 = np.linalg.norm(x[:,0] - x_rec[3])\n",
    "\n",
    "\n"
   ]
  },
  {
   "cell_type": "code",
   "execution_count": 0,
   "metadata": {
    "colab": {
     "base_uri": "https://localhost:8080/",
     "height": 85
    },
    "colab_type": "code",
    "executionInfo": {
     "elapsed": 598,
     "status": "ok",
     "timestamp": 1573278071508,
     "user": {
      "displayName": "Yashvi Shah",
      "photoUrl": "https://lh3.googleusercontent.com/a-/AAuE7mDDnYz9Gdcct7Nmg4w8TU9kmSoZ9ovsmVMdlsSpwQ=s64",
      "userId": "11145621582853419399"
     },
     "user_tz": -330
    },
    "id": "E1yaCsY9h7py",
    "outputId": "01dbd87a-0752-40e2-e5f1-8be4a55e63bd"
   },
   "outputs": [
    {
     "name": "stdout",
     "output_type": "stream",
     "text": [
      "error when all features are considered : 1.9562444410972776e-10\n",
      "error when 400 features are considered : 1.9541039901244806e-10\n",
      "error when 100 features are considered : 1360.3627731377176\n",
      "error when 50 features are considered : 1652.3993204691326\n"
     ]
    }
   ],
   "source": [
    "print(\"error when all features are considered :\",e0)\n",
    "print(\"error when 400 features are considered :\",e1)\n",
    "print(\"error when 100 features are considered :\",e2)\n",
    "print(\"error when 50 features are considered :\",e3)\n"
   ]
  },
  {
   "cell_type": "code",
   "execution_count": 0,
   "metadata": {
    "colab": {
     "base_uri": "https://localhost:8080/",
     "height": 51
    },
    "colab_type": "code",
    "executionInfo": {
     "elapsed": 776446,
     "status": "ok",
     "timestamp": 1573279939590,
     "user": {
      "displayName": "Yashvi Shah",
      "photoUrl": "https://lh3.googleusercontent.com/a-/AAuE7mDDnYz9Gdcct7Nmg4w8TU9kmSoZ9ovsmVMdlsSpwQ=s64",
      "userId": "11145621582853419399"
     },
     "user_tz": -330
    },
    "id": "IV15j-1WssGL",
    "outputId": "4d48ce51-8fce-47aa-b886-5e809fe94014"
   },
   "outputs": [
    {
     "name": "stderr",
     "output_type": "stream",
     "text": [
      "/usr/local/lib/python3.6/dist-packages/ipykernel_launcher.py:3: ComplexWarning: Casting complex values to real discards the imaginary part\n",
      "  This is separate from the ipykernel package so we can avoid doing imports until\n"
     ]
    }
   ],
   "source": [
    "x_recon = np.zeros((10304,10304))\n",
    "for i in range (10304):\n",
    "  x_recon[i] = np.matmul(eigvec.transpose()[:,:i], y[:i,0])"
   ]
  },
  {
   "cell_type": "code",
   "execution_count": 0,
   "metadata": {
    "colab": {},
    "colab_type": "code",
    "id": "XrkvYXJ_xKea"
   },
   "outputs": [],
   "source": [
    "error =np.zeros((10304,1))\n",
    "for j in range (10304):\n",
    "  error[j] = np.linalg.norm(x[:,0] - x_recon[j])"
   ]
  },
  {
   "cell_type": "code",
   "execution_count": 0,
   "metadata": {
    "colab": {
     "base_uri": "https://localhost:8080/",
     "height": 296
    },
    "colab_type": "code",
    "executionInfo": {
     "elapsed": 1075,
     "status": "ok",
     "timestamp": 1573281065114,
     "user": {
      "displayName": "Yashvi Shah",
      "photoUrl": "https://lh3.googleusercontent.com/a-/AAuE7mDDnYz9Gdcct7Nmg4w8TU9kmSoZ9ovsmVMdlsSpwQ=s64",
      "userId": "11145621582853419399"
     },
     "user_tz": -330
    },
    "id": "zeIU07hrwHxD",
    "outputId": "7d2d7cdc-0f6e-4f84-a283-29de72af96ab"
   },
   "outputs": [
    {
     "name": "stdout",
     "output_type": "stream",
     "text": [
      "As the number of features increases the error decreases\n"
     ]
    },
    {
     "data": {
      "image/png": "[encoded data removed]",
      "text/plain": [
       "<Figure size 432x288 with 1 Axes>"
      ]
     },
     "metadata": {
      "tags": []
     },
     "output_type": "display_data"
    }
   ],
   "source": [
    "y_recon = np.arange(0,10304,1)\n",
    "plt.plot(y_recon, error[:])\n",
    "plt.xlabel('number of features')\n",
    "plt.ylabel('error')\n",
    "print(\"As the number of features increases the error decreases\")"
   ]
  },
  {
   "cell_type": "code",
   "execution_count": 0,
   "metadata": {
    "colab": {},
    "colab_type": "code",
    "id": "UDM8_3S93LoD"
   },
   "outputs": [],
   "source": []
  }
 ],
 "metadata": {
  "colab": {
   "collapsed_sections": [],
   "name": "ML_LAB6.ipynb",
   "provenance": []
  },
  "kernelspec": {
   "display_name": "Python 3",
   "language": "python",
   "name": "python3"
  },
  "language_info": {
   "codemirror_mode": {
    "name": "ipython",
    "version": 3
   },
   "file_extension": ".py",
   "mimetype": "text/x-python",
   "name": "python",
   "nbconvert_exporter": "python",
   "pygments_lexer": "ipython3",
   "version": "3.7.4"
  }
 },
 "nbformat": 4,
 "nbformat_minor": 1
}
