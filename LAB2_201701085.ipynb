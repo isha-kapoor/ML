{
 "cells": [
  {
   "cell_type": "code",
   "execution_count": 2,
   "metadata": {},
   "outputs": [],
   "source": [
    "import numpy as np\n",
    "from matplotlib import pyplot as plt\n",
    "import pandas as pd\n",
    "import random"
   ]
  },
  {
   "cell_type": "code",
   "execution_count": 3,
   "metadata": {},
   "outputs": [
    {
     "name": "stdout",
     "output_type": "stream",
     "text": [
      "4.882726282316096e-05 560\n"
     ]
    }
   ],
   "source": [
    "#part 1a\n",
    "currx=4;\n",
    "alpha=0.01;\n",
    "itera=10000\n",
    "step=0\n",
    "prevstep=1\n",
    "prec=0.000001\n",
    "df =lambda x:2*x\n",
    "while step<itera and prec<prevstep:\n",
    "    prex=currx\n",
    "    currx=currx-alpha*df(prex)\n",
    "    prevstep=abs(currx-prex)\n",
    "    step+=1\n",
    "print(currx ,step)"
   ]
  },
  {
   "cell_type": "code",
   "execution_count": 4,
   "metadata": {},
   "outputs": [
    {
     "name": "stdout",
     "output_type": "stream",
     "text": [
      "6.478840963601946e-05 4.859130722701463e-05 546\n"
     ]
    }
   ],
   "source": [
    "#part 1b\n",
    "currx=4;\n",
    "curry=3;\n",
    "itera=1000\n",
    "step=0\n",
    "alpha=0.01\n",
    "df =lambda x:2*x\n",
    "df1=lambda y:2*y\n",
    "prec1=0.000001\n",
    "prec2=0.000001\n",
    "precc1=1\n",
    "precc2=1\n",
    "while step<itera and prec1<precc1 and prec2<precc2:\n",
    "    prex=currx\n",
    "    prey=curry\n",
    "    currx=currx-alpha*df(prex)\n",
    "    curry=curry-alpha*df1(prey)\n",
    "    step+=1\n",
    "    precc1=abs(currx-prex);\n",
    "    precc2=abs(curry-prey);\n",
    "print(currx,curry,step) "
   ]
  },
  {
   "cell_type": "code",
   "execution_count": 5,
   "metadata": {},
   "outputs": [
    {
     "name": "stdout",
     "output_type": "stream",
     "text": [
      "5.51195832102068e-05 4.133968740765513e-05 554\n"
     ]
    }
   ],
   "source": [
    "#part 1b\n",
    "currx=4;\n",
    "curry=3;\n",
    "itera=1000\n",
    "step=0\n",
    "alpha=0.01\n",
    "df =lambda x:2*x\n",
    "df1=lambda y:2*y\n",
    "prec1=0.000001\n",
    "prec2=0.000001\n",
    "precc1=1\n",
    "precc2=1\n",
    "while step<itera and prec1<precc1 :\n",
    "    prex=currx\n",
    "    prey=curry\n",
    "    currx=currx-alpha*df(prex)\n",
    "    curry=curry-alpha*df1(prey)\n",
    "    step+=1\n",
    "    precc1=abs(currx-prex);\n",
    "    precc2=abs(curry-prey);\n",
    "    precc1=(precc1+precc2)/2\n",
    "print(currx,curry,step) "
   ]
  },
  {
   "cell_type": "code",
   "execution_count": 6,
   "metadata": {},
   "outputs": [
    {
     "name": "stdout",
     "output_type": "stream",
     "text": [
      "1.0000035995412193 68\n"
     ]
    }
   ],
   "source": [
    "#part 1c\n",
    "currx=15\n",
    "itera=1000\n",
    "alpha=0.1\n",
    "step=0\n",
    "prec=0.000001\n",
    "change=1\n",
    "df =lambda x:2*(x-1)\n",
    "while step <itera and prec<change:\n",
    "    prex=currx\n",
    "    currx=currx-alpha*df(prex)\n",
    "    change=abs(currx-prex)\n",
    "    step+=1\n",
    "print(currx,step)"
   ]
  },
  {
   "cell_type": "code",
   "execution_count": 7,
   "metadata": {},
   "outputs": [
    {
     "name": "stdout",
     "output_type": "stream",
     "text": [
      "1.0000018422826642 1.0000012281884427 28\n"
     ]
    }
   ],
   "source": [
    "#part 1d\n",
    "currx=4;\n",
    "curry=3;\n",
    "itera=1000\n",
    "step=0\n",
    "alpha=0.1\n",
    "df =lambda x:4*(x-1)\n",
    "df1=lambda y:4*(y-1)\n",
    "prec1=0.000001\n",
    "prec2=0.000001\n",
    "precc1=1\n",
    "precc2=1\n",
    "while step<itera and prec1<precc1 and prec2<precc2:\n",
    "    prex=currx\n",
    "    prey=curry\n",
    "    currx=currx-alpha*df(prex)\n",
    "    curry=curry-alpha*df1(prey)\n",
    "    step+=1\n",
    "    precc1=abs(currx-prex);\n",
    "    precc2=abs(curry-prey);\n",
    "print(currx,curry,step)"
   ]
  },
  {
   "cell_type": "code",
   "execution_count": 3,
   "metadata": {},
   "outputs": [
    {
     "name": "stdout",
     "output_type": "stream",
     "text": [
      "(2, 1)\n",
      "[[23.7177502]\n",
      " [-6.8668972]] 1112\n",
      "(2, 1)\n"
     ]
    }
   ],
   "source": [
    "#part 1e\n",
    "mat=pd.read_csv('data.csv')\n",
    "X=mat['a']\n",
    "Y=mat['b']\n",
    "X=X.to_numpy()\n",
    "Y=Y.to_numpy()\n",
    "X=(X-np.mean(X))/np.std(X)\n",
    "l=len(X)\n",
    "X0 = np.ones(shape=l,dtype='int')\n",
    "X0=X0.reshape(l, 1)\n",
    "X=X.reshape(l, 1)\n",
    "Y=Y.reshape(l, 1)\n",
    "K=np.hstack((X0, X))\n",
    "itera=1000000\n",
    "lr=0.01\n",
    "theta=np.random.randn(2,1)\n",
    "#thetah=np.zeros((itera,2))\n",
    "step=0\n",
    "prec=np.array([0.000001,0.000001])\n",
    "print(theta.shape)\n",
    "#print(thetah.shape)\n",
    "prevstep=np.array([1,1])\n",
    "while step<itera and (prec.T<prevstep).all():\n",
    "    #predict=np.dot(K,theta)\n",
    "    predict=K.dot(theta)\n",
    "    thetah=theta\n",
    "    theta=theta-(1/l)*lr*(K.T.dot(+predict-Y))\n",
    "    #thetah[,:]=theta.T\n",
    "    prevstep=abs(theta-thetah)\n",
    "    step+=1\n",
    "print(theta,step)\n",
    "print(thetah.shape)"
   ]
  },
  {
   "cell_type": "code",
   "execution_count": 4,
   "metadata": {},
   "outputs": [
    {
     "name": "stdout",
     "output_type": "stream",
     "text": [
      "[[23.71225866]\n",
      " [-6.83437531]]\n"
     ]
    }
   ],
   "source": [
    "#part 2\n",
    "mat=pd.read_csv('data.csv')\n",
    "X=mat['a']\n",
    "Y=mat['b']\n",
    "X=X.to_numpy()\n",
    "Y=Y.to_numpy()\n",
    "X=(X-np.mean(X))/np.std(X)\n",
    "l=len(X)\n",
    "X0 = np.ones(shape=l,dtype='int')\n",
    "X0=X0.reshape(l, 1)\n",
    "X=X.reshape(l, 1)\n",
    "Y=Y.reshape(l, 1)\n",
    "K=np.hstack((X0, X))\n",
    "#here K.shape[1]=2\n",
    "itera=1000000\n",
    "alpha=0.01\n",
    "step=0\n",
    "theta=np.random.randn(2,1)\n",
    "thetah=np.zeros((itera,2))\n",
    "prec=np.array([0.0000000001,0.0000000001])\n",
    "prevstep=1\n",
    "while  step<itera and (prec.T<prevstep).all():\n",
    "    rand_ind=np.random.randint(1,l)\n",
    "    \n",
    "    K_i=K[rand_ind,:].reshape(1,2)\n",
    "    Y_i=Y[rand_ind].reshape(1,1)\n",
    "    predict=np.dot(K_i,theta)\n",
    "    thetah=theta\n",
    "    theta=theta-1/l*alpha*(K_i.T.dot(predict-Y_i))\n",
    "    prevstep=abs(theta-thetah)\n",
    "    step+=1\n",
    "print(theta)"
   ]
  },
  {
   "cell_type": "code",
   "execution_count": 29,
   "metadata": {},
   "outputs": [
    {
     "name": "stdout",
     "output_type": "stream",
     "text": [
      "0.0 1\n"
     ]
    }
   ],
   "source": [
    "#part 3a\n",
    "alpha=0.01\n",
    "theta=1000\n",
    "\n",
    "for i in range(100):\n",
    "    \n",
    "    alpha=alpha - (-0.5*(1-2*alpha))\n",
    "    jtheta=2*theta\n",
    "    thetan=theta - alpha*jtheta;\n",
    "    if(abs(thetan-theta)<1):\n",
    "        break\n",
    "    theta=thetan\n",
    "print(theta , i)\n"
   ]
  },
  {
   "cell_type": "code",
   "execution_count": 31,
   "metadata": {},
   "outputs": [
    {
     "name": "stdout",
     "output_type": "stream",
     "text": [
      "0.0 0.0 1\n"
     ]
    }
   ],
   "source": [
    "#part 3b\n",
    "alpha=0.1\n",
    "theta_0=-100\n",
    "theta_1=100\n",
    "\n",
    "for i in range(100):\n",
    "    alpha = alpha - (-0.5*(1-2*alpha))\n",
    "    jtheta0=2*theta_0\n",
    "    jtheta1=2*theta_1\n",
    "    \n",
    "    thetan0=theta_0 - alpha*jtheta0\n",
    "    thetan1=theta_1 - alpha*jtheta1\n",
    "    if(abs(thetan0-theta_0)<0.1 and abs(thetan1-theta_1)<0.1): \n",
    "        break\n",
    "    theta_0=thetan0\n",
    "    theta_1=thetan1\n",
    "print(thetan0,thetan1 ,i)"
   ]
  },
  {
   "cell_type": "code",
   "execution_count": 26,
   "metadata": {},
   "outputs": [
    {
     "name": "stdout",
     "output_type": "stream",
     "text": [
      "1.0 2\n"
     ]
    }
   ],
   "source": [
    "#part 3c\n",
    "alpha =0.1\n",
    "theta=100\n",
    "i=0\n",
    "while 1:\n",
    "    \n",
    "    alpha=alpha - (-0.5*(1-2*(alpha)))\n",
    "    c=theta\n",
    "    jtheta=2*(theta-1)\n",
    "    thetan=theta - alpha*jtheta;\n",
    "    i=i+1\n",
    "    if(abs(thetan-c)<0.00001):\n",
    "        break\n",
    "    theta=thetan\n",
    "print(theta,i)"
   ]
  },
  {
   "cell_type": "code",
   "execution_count": 33,
   "metadata": {},
   "outputs": [
    {
     "name": "stdout",
     "output_type": "stream",
     "text": [
      "1.0 1.0 1\n"
     ]
    }
   ],
   "source": [
    "#part 3d\n",
    "alpha=0.1\n",
    "theta_0=-100\n",
    "theta_1=1\n",
    "\n",
    "for i in range(100):\n",
    "    alpha = alpha - (-0.5*(1-2*alpha))\n",
    "    jtheta0=2*(theta_0-1)\n",
    "    jtheta1=2*(theta_1-1)\n",
    "    \n",
    "    thetan0=theta_0 - alpha*jtheta0\n",
    "    thetan1=theta_1 - alpha*jtheta1\n",
    "    if(abs(thetan0-theta_0)<0.1 and abs(thetan1-theta_1)<0.1): \n",
    "        break\n",
    "    theta_0=thetan0\n",
    "    theta_1=thetan1\n",
    "print(thetan0,thetan1 ,i)"
   ]
  },
  {
   "cell_type": "code",
   "execution_count": 35,
   "metadata": {},
   "outputs": [
    {
     "name": "stdout",
     "output_type": "stream",
     "text": [
      "23.71808510638298 -6.866995447255381\n"
     ]
    }
   ],
   "source": [
    "#part 3e\n",
    "mat=pd.read_csv('data.csv')\n",
    "x=mat['a']\n",
    "y=mat['b']\n",
    "l=len(x)\n",
    "x=(x-np.mean(x))/np.std(x)\n",
    "alpha=0.01\n",
    "theta_0=10\n",
    "theta_1=20\n",
    "\n",
    "for i in range(100):\n",
    "    \n",
    "    jtheta0=(1/l)*(sum(theta_0 + theta_1*x - y))\n",
    "    jtheta1=(1/l)*(sum((theta_0 + theta_1*x - y)*x))\n",
    "    \n",
    "    dif = sum((y - theta_0 + alpha*jtheta0 - theta_1*x + alpha*jtheta1*x)*(jtheta0 + jtheta1*x))\n",
    "    diff = sum((jtheta0 + jtheta1*x)*(jtheta0 + jtheta1*x))\n",
    "    alpha = alpha - (dif/diff)\n",
    "    \n",
    "    thetan0=theta_0 - alpha*jtheta0\n",
    "    thetan1=theta_1 - alpha*jtheta1\n",
    "    \n",
    "    theta_0=thetan0\n",
    "    theta_1=thetan1\n",
    "print(theta_0,theta_1)"
   ]
  },
  {
   "cell_type": "code",
   "execution_count": null,
   "metadata": {},
   "outputs": [],
   "source": []
  }
 ],
 "metadata": {
  "kernelspec": {
   "display_name": "Python 3",
   "language": "python",
   "name": "python3"
  },
  "language_info": {
   "codemirror_mode": {
    "name": "ipython",
    "version": 3
   },
   "file_extension": ".py",
   "mimetype": "text/x-python",
   "name": "python",
   "nbconvert_exporter": "python",
   "pygments_lexer": "ipython3",
   "version": "3.7.4"
  }
 },
 "nbformat": 4,
 "nbformat_minor": 2
}
